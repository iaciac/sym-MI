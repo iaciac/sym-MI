{
 "cells": [
  {
   "cell_type": "code",
   "execution_count": 1,
   "metadata": {},
   "outputs": [],
   "source": [
    "from SymbolicMutualInformation import get_MI\n",
    "import matplotlib.pyplot as plt\n",
    "import numpy as np\n",
    "import csv\n",
    "%matplotlib inline"
   ]
  },
  {
   "cell_type": "markdown",
   "metadata": {},
   "source": [
    "Importing the function getMI for symbols at distance n, as defined in the paper: http://iopscience.iop.org/article/10.1209/0295-5075/26/4/001/meta\n",
    "$$I(n)=\\sum_{A_i,A_j}p^{(n)}(A_i,A_j)\\log\\Big[\\frac{p^{(n)}(A_i,A_j)}{p^{(1)}(A_i)p^{(1)}(A_j)}\\Big]$$\n",
    "where\n",
    "* $p^{(n)}(A_1,A_2,...,A_n)$ is the probability of the substring (block) $A_1,A_2,...,A_n$\n",
    "* $p^{(n)}(A_1,A_n)$ is the probability of finding a pair $A_1$, $A_n$ in the total string with arbitrary $(n-2)$ letters in the middle \n",
    "\n",
    "I compute the $p^{(1)}(A_i)$ as the frequency of the letter $A_i$ in the entire sequence over the length of the sequence $L$: $$p^{(1)}(A_i)={f_{A_i}\\over L}$$\n",
    "while for the joint $p^{(n)}(A_i,A_j)$ I count the frequency of the pair $(A_i,A_j)$ at distance $n$. So I count how many times, given a $A_{i}$ in the sequence I find the $A_j$ after $n$ steps, and this will be the numerator. The denominator is how many windows of length $n$ I have in the sequence, which is $L-n$."
   ]
  },
  {
   "cell_type": "markdown",
   "metadata": {},
   "source": [
    "# Example on The Silmarillion"
   ]
  },
  {
   "cell_type": "code",
   "execution_count": 2,
   "metadata": {},
   "outputs": [
    {
     "name": "stdout",
     "output_type": "stream",
     "text": [
      "681452 ['The', 'Music', 'of', 'the', 'Ainur', 'There', 'was', 'Eru', 'the', 'One']\n"
     ]
    }
   ],
   "source": [
    "sequence = []\n",
    "with open('tolkien.txt', 'r') as f:\n",
    "    for line in f.readlines():\n",
    "        sequence.append(line[:-2])\n",
    "\n",
    "print len(sequence), sequence[:10]"
   ]
  },
  {
   "cell_type": "code",
   "execution_count": 3,
   "metadata": {
    "collapsed": true
   },
   "outputs": [],
   "source": [
    "#reducing the size\n",
    "sequence = sequence[:2000]"
   ]
  },
  {
   "cell_type": "markdown",
   "metadata": {},
   "source": [
    "Computing the MI for a bunch of $n$"
   ]
  },
  {
   "cell_type": "code",
   "execution_count": 4,
   "metadata": {},
   "outputs": [],
   "source": [
    "n = np.arange(2,20,2)\n",
    "I = [get_MI(sequence, x) for x in n]"
   ]
  },
  {
   "cell_type": "code",
   "execution_count": 5,
   "metadata": {},
   "outputs": [
    {
     "data": {
      "image/png": "[encoded data removed]",
      "text/plain": [
       "<matplotlib.figure.Figure at 0x10e0ce290>"
      ]
     },
     "metadata": {},
     "output_type": "display_data"
    }
   ],
   "source": [
    "ax = plt.subplot(111)\n",
    "\n",
    "ax.plot(n, I, 'o-')\n",
    "\n",
    "ax.set_xlabel(ur'distance, $n$', size=13)\n",
    "ax.set_ylabel(ur'mutual information, $I(n)$', size=13)\n",
    "ax.set_xlim(min(n)-1, max(n));"
   ]
  },
  {
   "cell_type": "code",
   "execution_count": null,
   "metadata": {
    "collapsed": true
   },
   "outputs": [],
   "source": []
  }
 ],
 "metadata": {
  "kernelspec": {
   "display_name": "Python 2",
   "language": "python",
   "name": "python2"
  },
  "language_info": {
   "codemirror_mode": {
    "name": "ipython",
    "version": 2
   },
   "file_extension": ".py",
   "mimetype": "text/x-python",
   "name": "python",
   "nbconvert_exporter": "python",
   "pygments_lexer": "ipython2",
   "version": "2.7.10"
  }
 },
 "nbformat": 4,
 "nbformat_minor": 1
}
